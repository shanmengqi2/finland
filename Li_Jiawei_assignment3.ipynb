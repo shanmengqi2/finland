{
 "cells": [
  {
   "attachments": {},
   "cell_type": "markdown",
   "metadata": {},
   "source": [
    "1. Write a lambda expression to get the product of two numbers.\n",
    "Run test for expression(5,6)\n",
    "Output: 30\n"
   ]
  },
  {
   "cell_type": "code",
   "execution_count": 3,
   "metadata": {},
   "outputs": [
    {
     "data": {
      "text/plain": [
       "30"
      ]
     },
     "execution_count": 3,
     "metadata": {},
     "output_type": "execute_result"
    }
   ],
   "source": [
    "multi_lambda = lambda num1, num2: num1 * num2\n",
    "multi_lambda(5,6)\n"
   ]
  },
  {
   "attachments": {},
   "cell_type": "markdown",
   "metadata": {},
   "source": [
    "2. Write a function to get the area of a circle from the radius. \n",
    "Hint: remember to import the right modul for being able to calculte the area of the circle.\n",
    "Run test for function(10)\n",
    "Output: 314.1592653589793"
   ]
  },
  {
   "cell_type": "code",
   "execution_count": 5,
   "metadata": {},
   "outputs": [
    {
     "data": {
      "text/plain": [
       "314.1592653589793"
      ]
     },
     "execution_count": 5,
     "metadata": {},
     "output_type": "execute_result"
    }
   ],
   "source": [
    "import math\n",
    "\n",
    "def area_circle(num_radius):         #create function\n",
    "    return math.pi * (num_radius ** 2)\n",
    "\n",
    "area_circle(10)\n"
   ]
  },
  {
   "attachments": {},
   "cell_type": "markdown",
   "metadata": {},
   "source": [
    "3. Build a simple calculator which can: add, subtract, multiply, divide. \n",
    "Hint: solve by writing a function that takes as argument two numbers and the operation and \n",
    "returns the desired output.\n",
    "Run test for function(2,5,’d’)\n",
    "Output: 0.4\n"
   ]
  },
  {
   "cell_type": "code",
   "execution_count": 11,
   "metadata": {},
   "outputs": [
    {
     "data": {
      "text/plain": [
       "0.4"
      ]
     },
     "execution_count": 11,
     "metadata": {},
     "output_type": "execute_result"
    }
   ],
   "source": [
    "def calculator(num1,num2,operator):\n",
    "\n",
    "# create dictionary to transform strings to operators\n",
    "    ops = {\"a\":(lambda num1,num2:num1+num2),\"s\":(lambda num1,num2:num1-num2),\\\n",
    "        \"m\":(lambda num1,num2:num1*num2),\"d\":(lambda num1,num2:num1/num2)}\n",
    "\n",
    "    return ops[operator](num1,num2)\n",
    "\n",
    "calculator(2,5,\"d\")"
   ]
  },
  {
   "attachments": {},
   "cell_type": "markdown",
   "metadata": {},
   "source": [
    "4. Define a class named Rectangle which can be constructed by a length and width.\n",
    "The Rectangle class has a method which can compute the area.\n",
    "Run test for r = Rectangle(5,10)\n",
    "r.area()\n",
    " Output: 50"
   ]
  },
  {
   "cell_type": "code",
   "execution_count": 12,
   "metadata": {},
   "outputs": [
    {
     "data": {
      "text/plain": [
       "50"
      ]
     },
     "execution_count": 12,
     "metadata": {},
     "output_type": "execute_result"
    }
   ],
   "source": [
    "class Rectangle ():\n",
    "    def __init__(self,length,width):\n",
    "        self.length = length\n",
    "        self.width = width\n",
    "    \n",
    "    def area(self):\n",
    "        return self.length * self.width\n",
    "\n",
    "r = Rectangle(5,10)\n",
    "r.area()    "
   ]
  },
  {
   "attachments": {},
   "cell_type": "markdown",
   "metadata": {},
   "source": [
    "5. Define a class named Shape and its subclass Square.\n",
    "Shape objects can be consrtucted by name and length has an area function wich return 0\n",
    "Square subclass has an init function which take a length and name as argument and has an\n",
    "area method and a describe method what prints the name of the Shape.\n",
    " Print the area from Square class.\n",
    "Run test for: s = Square('square',5)\n",
    "print(s.area())\n",
    "print(s.describe())\n",
    " Output: The area is: \n",
    "25\n",
    " This is a: square"
   ]
  },
  {
   "cell_type": "code",
   "execution_count": 2,
   "metadata": {},
   "outputs": [
    {
     "name": "stdout",
     "output_type": "stream",
     "text": [
      "25\n",
      "This ia a: square\n"
     ]
    }
   ],
   "source": [
    "class Shape ():\n",
    "    def __init__(self,name,length) :\n",
    "        self.name = name\n",
    "        self.length = length\n",
    "    \n",
    "    def area(self):\n",
    "        return 0\n",
    "    \n",
    "\n",
    "class Square (Shape):\n",
    "    def __init__(self,name,length):\n",
    "        super().__init__(name,length)\n",
    "    \n",
    "    def area(self):\n",
    "        return self.length ** 2\n",
    "    \n",
    "    def describe(self):\n",
    "        return self.name\n",
    "\n",
    "s = Square('square',5)\n",
    "print(s.area())\n",
    "print(\"This ia a:\",s.describe())\n"
   ]
  }
 ],
 "metadata": {
  "kernelspec": {
   "display_name": "Python 3",
   "language": "python",
   "name": "python3"
  },
  "language_info": {
   "codemirror_mode": {
    "name": "ipython",
    "version": 3
   },
   "file_extension": ".py",
   "mimetype": "text/x-python",
   "name": "python",
   "nbconvert_exporter": "python",
   "pygments_lexer": "ipython3",
   "version": "3.11.2"
  },
  "orig_nbformat": 4,
  "vscode": {
   "interpreter": {
    "hash": "67deabc1a5dbefac12e32d0223147d7978a985082e3535d7a4bd2a73e5aa4251"
   }
  }
 },
 "nbformat": 4,
 "nbformat_minor": 2
}
